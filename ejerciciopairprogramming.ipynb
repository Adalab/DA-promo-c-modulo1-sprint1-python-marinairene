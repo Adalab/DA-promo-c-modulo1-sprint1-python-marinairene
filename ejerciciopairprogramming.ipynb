{
 "cells": [
  {
   "cell_type": "code",
   "execution_count": 1,
   "metadata": {},
   "outputs": [],
   "source": [
    "# Pair programming variables\n",
    "# Cread tres variables numéricas de tipo integer (entero), llamadas de la siguiente forma:\n",
    "#numero1\n",
    "#numero2\n",
    "#numero3\n",
    "\n",
    "#utilizando los operadores lógicos\n",
    "\n",
    "#En vuestro caso, es el numero1 mayor que el numero2\n",
    "#Es el numero1 menor que el numero2 pero mayor que el numero3\n",
    "#Es el numero3 igual que el numero2\n",
    "#Es el numero2 distinto que el numero1"
   ]
  },
  {
   "cell_type": "code",
   "execution_count": 2,
   "metadata": {},
   "outputs": [],
   "source": [
    "numero1 = 1\n",
    "numero2 = 2\n",
    "numero3 = 3"
   ]
  },
  {
   "cell_type": "code",
   "execution_count": 4,
   "metadata": {},
   "outputs": [
    {
     "name": "stdout",
     "output_type": "stream",
     "text": [
      "False\n"
     ]
    }
   ],
   "source": [
    "#Es el numero1 menor que el numero2 pero mayor que el numero3\n",
    "print(numero1<numero2 and(numero2>numero3))"
   ]
  },
  {
   "cell_type": "code",
   "execution_count": 5,
   "metadata": {},
   "outputs": [
    {
     "name": "stdout",
     "output_type": "stream",
     "text": [
      "False\n"
     ]
    }
   ],
   "source": [
    "#Es el numero3 igual que el numero2\n",
    "print(numero3==numero2)"
   ]
  },
  {
   "cell_type": "code",
   "execution_count": 6,
   "metadata": {},
   "outputs": [
    {
     "name": "stdout",
     "output_type": "stream",
     "text": [
      "True\n"
     ]
    }
   ],
   "source": [
    "#Es el numero2 distinto que el numero1\n",
    "print(numero2!=numero1)"
   ]
  }
 ],
 "metadata": {
  "kernelspec": {
   "display_name": "Python 3.9.12 ('base')",
   "language": "python",
   "name": "python3"
  },
  "language_info": {
   "codemirror_mode": {
    "name": "ipython",
    "version": 3
   },
   "file_extension": ".py",
   "mimetype": "text/x-python",
   "name": "python",
   "nbconvert_exporter": "python",
   "pygments_lexer": "ipython3",
   "version": "3.9.12"
  },
  "orig_nbformat": 4,
  "vscode": {
   "interpreter": {
    "hash": "9429f26ec4099974d746a4ebde46a1e9e674ac91dbe378d9f92f91a367d774ad"
   }
  }
 },
 "nbformat": 4,
 "nbformat_minor": 2
}
