{
 "cells": [
  {
   "cell_type": "code",
   "execution_count": 5,
   "metadata": {},
   "outputs": [
    {
     "name": "stdout",
     "output_type": "stream",
     "text": [
      "¿Cuál ha sido tu ultima nota?\n",
      "E\n"
     ]
    }
   ],
   "source": [
    "#En la escuela donde trabajamos tienen el siguiente sistema de notas:\n",
    "#- Below 25 - F\n",
    "#- 25 to 45 - E\n",
    "#- 45 to 50 - D\n",
    "#- 50 to 60 - C\n",
    "#- 60 to 80 - B\n",
    "#- Above 80 - A\n",
    "#El objetivo de este ejercicio es que le preguntéis al usuario por una nota (numérica)\n",
    "#  y nosotros le devolvamos la nota con la letra que le corresponde.\n",
    "print(\"¿Cuál ha sido tu ultima nota?\")\n",
    "nota = int(input(\"¿Cuál ha sido tu última nota?\"))\n",
    "if nota < 25:\n",
    "    print(\"F\")\n",
    "elif nota >= 25 or nota < 45:\n",
    "    print(\"E\")\n",
    "elif nota >= 45 or nota < 50:\n",
    "    print(\"D\")\n",
    "elif nota >= 50 or nota < 60:\n",
    "    print(\"C\")\n",
    "elif nota >= 60 or nota < 80:\n",
    "    print(\"B\")\n",
    "elif nota >=80:\n",
    "    print(\"A\")\n",
    "\n",
    "\n",
    "# Cread tres inputs donde a cada uno de ellos le preguntéis su edad, \n",
    "# el objetivo del ejercicio es determinar quien es el más viejo y el más joven."
   ]
  },
  {
   "cell_type": "code",
   "execution_count": 11,
   "metadata": {},
   "outputs": [
    {
     "name": "stdout",
     "output_type": "stream",
     "text": [
      "persona2 es mayor que persona1\n",
      "persona3 es la más vieja\n"
     ]
    }
   ],
   "source": [
    "persona1 = int(input(\"¿Cuál es tu edad?\")) #10\n",
    "persona2 = int(input(\"¿Cuál es tu edad?\")) #20\n",
    "persona3 = int(input(\"¿Cuál es tu edad?\")) #30\n",
    "\n",
    "if persona1 > persona2:\n",
    "    print(\"persona1 es mayor que persona2\")\n",
    "    if persona1 > persona3:\n",
    "        print(\"persona1 es la más vieja\")\n",
    "        if persona3 > persona2 :\n",
    "            print(\"persona2 es la más joven\")\n",
    "elif persona1 < persona2:\n",
    "    print(\"persona2 es mayor que persona1\")\n",
    "    if persona3 < persona2:\n",
    "        print(\"persona2 es la más vieja\")\n",
    "        print(\"\")\n",
    "    else:\n",
    "        if persona2 > persona3:\n",
    "            print(\"persona2 es la más vieja\")\n",
    "        else:\n",
    "            print(\"persona3 es la más vieja\")\n",
    "else:\n",
    "    if persona1 < persona3: \n",
    "        print(\"persona 3 es mayor que persona1\")\n",
    "\n"
   ]
  }
 ],
 "metadata": {
  "kernelspec": {
   "display_name": "Python 3.9.12 ('base')",
   "language": "python",
   "name": "python3"
  },
  "language_info": {
   "codemirror_mode": {
    "name": "ipython",
    "version": 3
   },
   "file_extension": ".py",
   "mimetype": "text/x-python",
   "name": "python",
   "nbconvert_exporter": "python",
   "pygments_lexer": "ipython3",
   "version": "3.9.12"
  },
  "orig_nbformat": 4,
  "vscode": {
   "interpreter": {
    "hash": "9429f26ec4099974d746a4ebde46a1e9e674ac91dbe378d9f92f91a367d774ad"
   }
  }
 },
 "nbformat": 4,
 "nbformat_minor": 2
}
