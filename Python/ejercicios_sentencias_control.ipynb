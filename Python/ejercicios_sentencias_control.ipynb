{
 "cells": [
  {
   "cell_type": "code",
   "execution_count": 5,
   "metadata": {},
   "outputs": [
    {
     "name": "stdout",
     "output_type": "stream",
     "text": [
      "¿Cuál ha sido tu ultima nota?\n",
      "E\n"
     ]
    }
   ],
   "source": [
    "#En la escuela donde trabajamos tienen el siguiente sistema de notas:\n",
    "#- Below 25 - F\n",
    "#- 25 to 45 - E\n",
    "#- 45 to 50 - D\n",
    "#- 50 to 60 - C\n",
    "#- 60 to 80 - B\n",
    "#- Above 80 - A\n",
    "#El objetivo de este ejercicio es que le preguntéis al usuario por una nota (numérica)\n",
    "#  y nosotros le devolvamos la nota con la letra que le corresponde.\n",
    "print(\"¿Cuál ha sido tu ultima nota?\")\n",
    "nota = int(input(\"¿Cuál ha sido tu última nota?\"))\n",
    "if nota < 25:\n",
    "    print(\"F\")\n",
    "elif nota >= 25 or nota < 45:\n",
    "    print(\"E\")\n",
    "elif nota >= 45 or nota < 50:\n",
    "    print(\"D\")\n",
    "elif nota >= 50 or nota < 60:\n",
    "    print(\"C\")\n",
    "elif nota >= 60 or nota < 80:\n",
    "    print(\"B\")\n",
    "elif nota >=80:\n",
    "    print(\"A\")\n"
   ]
  },
  {
   "cell_type": "code",
   "execution_count": 1,
   "metadata": {},
   "outputs": [],
   "source": [
    "# Cread tres inputs donde a cada uno de ellos le preguntéis su edad, \n",
    "# el objetivo del ejercicio es determinar quien es el más viejo y el más joven.\n",
    "persona1 = int(input(\"¿Cuál es tu edad?\")) #10\n",
    "persona2 = int(input(\"¿Cuál es tu edad?\")) #20\n",
    "persona3 = int(input(\"¿Cuál es tu edad?\")) #30"
   ]
  },
  {
   "cell_type": "code",
   "execution_count": 9,
   "metadata": {},
   "outputs": [
    {
     "name": "stdout",
     "output_type": "stream",
     "text": [
      "persona3 es la mayor\n"
     ]
    }
   ],
   "source": [
    "if persona1 > persona2 and persona1 > persona3:\n",
    "    print(\"persona1 es la mayor\")\n",
    "elif persona2 > persona1 and persona2 > persona3:\n",
    "    print(\"persona2 es la mayor\")\n",
    "else:\n",
    "    if persona3 > persona1 and persona3 > persona2:\n",
    "        print(\"persona3 es la mayor\")"
   ]
  },
  {
   "cell_type": "code",
   "execution_count": 8,
   "metadata": {},
   "outputs": [
    {
     "name": "stdout",
     "output_type": "stream",
     "text": [
      "persona1 es la menor\n"
     ]
    }
   ],
   "source": [
    "if persona1 < persona2:\n",
    "    print(\"persona1 es la menor\")\n",
    "elif persona2 < persona1:\n",
    "    print(\"persona2 es la menor\")"
   ]
  },
  {
   "cell_type": "code",
   "execution_count": null,
   "metadata": {},
   "outputs": [],
   "source": [
    "# Escribid un programa que pregunte el nombre del usuario a través de la función input().\n",
    "# Si el nombre es \"Bond\" haced que imprima \"Bienvenido a bordo de 007\". \n",
    "# En caso contrario haced que imprima \"Buenos días NOMBRE\". (Reemplace NOMBRE por el nombre del usuario)"
   ]
  },
  {
   "cell_type": "code",
   "execution_count": 11,
   "metadata": {},
   "outputs": [
    {
     "name": "stdout",
     "output_type": "stream",
     "text": [
      "Bienvenido a bordo de 007\n"
     ]
    }
   ],
   "source": [
    "pregunta = input(\"¿Cuál es tu nombre?\")\n",
    "if pregunta == \"Bond\":\n",
    "    print(\"Bienvenido a bordo de 007\")\n",
    "else:\n",
    "    print(\"Buenos días\", pregunta)"
   ]
  },
  {
   "cell_type": "code",
   "execution_count": null,
   "metadata": {},
   "outputs": [],
   "source": [
    "#arbol es un diccionario que muestra el número de árboles de países por kilómetro cuadrado para países aleatorios \n",
    "#con un número considerable de población. Crea una lista llamada \"masarboles\" que contenga \n",
    "#el nombre de los países con más de 40.000 árboles por kilómetro cuadrado."
   ]
  },
  {
   "cell_type": "code",
   "execution_count": 22,
   "metadata": {},
   "outputs": [],
   "source": [
    "tree = {\"Taiwan\": 69593,\n",
    "        \"Japan\": 49894, \n",
    "        \"Russia\": 41396, \n",
    "        \"Canada\": 36388, \n",
    "        \"Bulgaria\": 24987}"
   ]
  },
  {
   "cell_type": "code",
   "execution_count": 20,
   "metadata": {},
   "outputs": [
    {
     "data": {
      "text/plain": [
       "dict_values([69593, 49894, 41396, 36388, 24987])"
      ]
     },
     "execution_count": 20,
     "metadata": {},
     "output_type": "execute_result"
    }
   ],
   "source": [
    "tree.values()"
   ]
  },
  {
   "cell_type": "code",
   "execution_count": 29,
   "metadata": {},
   "outputs": [
    {
     "data": {
      "text/plain": [
       "['Taiwan', 'Japan', 'Russia', 'Canada', 'Bulgaria']"
      ]
     },
     "execution_count": 29,
     "metadata": {},
     "output_type": "execute_result"
    }
   ],
   "source": [
    "masarboles = []\n",
    "tree2 = list(tree) \n",
    "tree2\n",
    "\n",
    "if tree.values() > "
   ]
  },
  {
   "cell_type": "code",
   "execution_count": null,
   "metadata": {},
   "outputs": [],
   "source": [
    "#Los alumnos de un curso se han dividido en dos grupos A y B de acuerdo al sexo y el nombre.\n",
    "#  El grupo A esta formado por las mujeres con un nombre anterior a la M \n",
    "# y los hombres con un nombre posterior a la N y el grupo B por el resto.\n",
    "#  Escribid un programa que pregunte al usuario su nombre y sexo, \n",
    "# y muestre por pantalla el grupo que le corresponde."
   ]
  },
  {
   "cell_type": "code",
   "execution_count": 2,
   "metadata": {},
   "outputs": [
    {
     "name": "stdout",
     "output_type": "stream",
     "text": [
      "estas en el grupo B\n"
     ]
    }
   ],
   "source": [
    "\n",
    "nombre = input(\"¿Cuál es tu nombre?\")\n",
    "sexo = input(\"¿Cuál es tu sexo, hombre o mujer?\") \n",
    "\n",
    "if sexo == \"mujer\":\n",
    "    if nombre.lower() < \"m\":\n",
    "        print(\"tu grupo es A\")\n",
    "    elif nombre.lower() > \"m\":\n",
    "        print(\"tu grupo es el B\")\n",
    "else:\n",
    "    if sexo == \"hombre\":\n",
    "        if nombre.lower() < \"n\":\n",
    "            print(\"estas en el grupo B\")\n",
    "        elif nombre.lower() < \"n\":\n",
    "            print(\"estas en el grupo A\")\n"
   ]
  },
  {
   "cell_type": "code",
   "execution_count": null,
   "metadata": {},
   "outputs": [],
   "source": [
    "#Escribid un programa que:\n",
    "#Dada la variable z con valor 0, es decir z = 0.\n",
    "#Mientras que el valor de z sea menor que 3:\n",
    "#Si el valor de z es igual a 0:\n",
    "#Printead el valor de z\n",
    "#Almancenad el valor en una lista auxiliar\n",
    "#Sumadle 1 al valor de z\n",
    "#Si el valor de z es igual a 1:\n",
    "#Printead el valor de z\n",
    "#Almancenad el valor en una lista auxiliar\n",
    "#Sumadle 1 al valor de z\n",
    "#En caso de que no se cumplan las condiciones anteriores:\n",
    "#Printead el valor de z\n",
    "#Sumadle 1 al valor de z"
   ]
  },
  {
   "cell_type": "code",
   "execution_count": 14,
   "metadata": {},
   "outputs": [
    {
     "name": "stdout",
     "output_type": "stream",
     "text": [
      "1\n"
     ]
    }
   ],
   "source": [
    "z = 0\n",
    "if z < 3:\n",
    "    if z == 0:\n",
    "        lista1 = [z]\n",
    "        print(z + 1)\n",
    "    if z == 1:\n",
    "        lista2 = [z]\n",
    "        print(z + 1)\n",
    "else:\n",
    "    print(z)\n",
    "    print(z + 1)\n",
    "        \n"
   ]
  },
  {
   "cell_type": "code",
   "execution_count": null,
   "metadata": {},
   "outputs": [],
   "source": [
    "#El objetivo de este ejercicio es añadir elementos a una lista utilizando el bucle while:\n",
    "#Cread una lista vacía\n",
    "#Cread una variable cuyo valor sea 0\n",
    "#Mientras que la longitud de la lista creada en el primer paso sea menor que 4:\n",
    "#Apendead el valor de la variable creada en el paso 2\n",
    "#Sumad 1 a la variable creada en el paso 2\n",
    "#Por último, printead los valores que hemos añadido en la lista vacía (ya no lo estaría)"
   ]
  },
  {
   "cell_type": "code",
   "execution_count": 7,
   "metadata": {},
   "outputs": [
    {
     "name": "stdout",
     "output_type": "stream",
     "text": [
      "[0]\n",
      "[0, 1]\n",
      "[0, 1, 2]\n",
      "[0, 1, 2, 3]\n"
     ]
    }
   ],
   "source": [
    "lista_vacia = []\n",
    "variable = 0\n",
    "while len(lista_vacia) < 4:\n",
    "    lista_vacia.append(variable)\n",
    "    variable = variable + 1\n",
    "    print(lista_vacia)\n"
   ]
  },
  {
   "cell_type": "code",
   "execution_count": null,
   "metadata": {},
   "outputs": [],
   "source": [
    "#El objetivo de este ejercicio es encontrar la suma de números en una lista usando el bucle while:\n",
    "#Cread una variable cuyo valor sea 0, llamadla \"i\"\n",
    "# Cread una lista que contenga los siguientes números: 23,45,12,10,25\n",
    "# Cread una variable cuyo valor sea 0, llamadla \"suma\"\n",
    "# Mientras que el valor de la variable \"i\" sea menor que la longitud de la lista:\n",
    "# Sumad elemento a elemento los valores de la lista. Es decir, el primero con el segundo; \n",
    "# el resultado de la suma anterior más el tercer número, etc\n",
    "# Sumad 1 a la variable \"i\" por cada iteración por el bucle while\n",
    "# El resultado esperado es 115."
   ]
  },
  {
   "cell_type": "code",
   "execution_count": 15,
   "metadata": {},
   "outputs": [
    {
     "ename": "TypeError",
     "evalue": "unsupported operand type(s) for +: 'int' and 'list'",
     "output_type": "error",
     "traceback": [
      "\u001b[1;31m---------------------------------------------------------------------------\u001b[0m",
      "\u001b[1;31mTypeError\u001b[0m                                 Traceback (most recent call last)",
      "Cell \u001b[1;32mIn [15], line 7\u001b[0m\n\u001b[0;32m      5\u001b[0m \u001b[39mwhile\u001b[39;00m \u001b[39m1\u001b[39m \u001b[39m<\u001b[39m \u001b[39mlen\u001b[39m(lista_while):\n\u001b[0;32m      6\u001b[0m    lista_while2 \u001b[39m=\u001b[39m lista_while[\u001b[39m0\u001b[39m] \u001b[39m+\u001b[39m lista_while[\u001b[39m1\u001b[39m]\n\u001b[1;32m----> 7\u001b[0m    \u001b[39mprint\u001b[39m(lista_while2 \u001b[39m+\u001b[39;49m lista_while)\n",
      "\u001b[1;31mTypeError\u001b[0m: unsupported operand type(s) for +: 'int' and 'list'"
     ]
    }
   ],
   "source": [
    "lista_while = [23,45,12,10,25]\n",
    "i = 0\n",
    "suma = 0\n",
    "\n",
    "while 1 < len(lista_while):\n",
    "   lista_while2 = lista_while[0] + lista_while[1]\n",
    "\n",
    "\n",
    "\n",
    "\n"
   ]
  },
  {
   "cell_type": "code",
   "execution_count": null,
   "metadata": {},
   "outputs": [],
   "source": [
    "#Escribid un programa para una empresa que tiene salas de juegos para todas las edades y \n",
    "# quiere calcular de forma automática el precio que debe cobrar a sus clientes por entrar. \n",
    "# El programa debe preguntar al usuario la edad del cliente y mostrar el precio de la entrada.\n",
    "#  Si el cliente es menor de 4 años puede entrar gratis, si tiene entre 4 y 18 años debe pagar 5€ y si es mayor de 18 años, 10€."
   ]
  },
  {
   "cell_type": "code",
   "execution_count": 18,
   "metadata": {},
   "outputs": [
    {
     "name": "stdout",
     "output_type": "stream",
     "text": [
      "entrada 10 euros\n"
     ]
    }
   ],
   "source": [
    "edad = int(input(\"¿Cuál es tu edad?\"))\n",
    "if edad < 4:\n",
    "    print(\"entrada gratis\")\n",
    "elif edad >= 4 and edad <= 18:\n",
    "    print(\"debe pagar 5 euros\")\n",
    "else:\n",
    "    print(\"entrada 10 euros\")"
   ]
  },
  {
   "cell_type": "code",
   "execution_count": null,
   "metadata": {},
   "outputs": [],
   "source": [
    "#La pizzería Bella Napoli ofrece pizzas vegetarianas y no vegetarianas a sus clientes.\n",
    "#  Los ingredientes para cada tipo de pizza aparecen a continuación.\n",
    "# Ingredientes vegetarianos: Pimiento y tofu.\n",
    "# Ingredientes no vegetarianos: Peperoni, Jamón y Salmón.\n",
    "# Escribid un programa que pregunte al usuario si quiere una pizza vegetariana o no,\n",
    "#  y en función de su respuesta le muestre un menú con los ingredientes disponibles para que elija.\n",
    "#  Solo se puede eligir un ingrediente además de la mozzarella y el tomate que están en todas la pizzas. \n",
    "#Al final se debe mostrar por pantalla si la pizza elegida es vegetariana o no y\n",
    "#  todos los ingredientes que lleva"
   ]
  },
  {
   "cell_type": "code",
   "execution_count": 26,
   "metadata": {},
   "outputs": [
    {
     "name": "stdout",
     "output_type": "stream",
     "text": [
      "['pimientos', 'tofu']\n"
     ]
    }
   ],
   "source": [
    "ingredientes_vegetariano = [\"pimientos\", \"tofu\"]\n",
    "ingredientes_carne = [\"peperoni\", \"salmón\", \"jamón\"]\n",
    "ingredientes_base = [\"tomate\", \"mozzarella\"]\n",
    "pregunta = input(\"¿quieres una pizza vegetariana, sí o no?\")\n",
    "if pregunta == \"sí\":\n",
    "    print(ingredientes_vegetariano)\n",
    "    ingredientes_veg = list(input(\"escoge un ingrediente entre tofu y pimiento\"))\n",
    "    if ingredientes_veg == \"tofu\":\n",
    "        ingredientes_veg.append(ingredientes_base)\n",
    "        print(ingredientes_veg)\n",
    "\n",
    "else:\n",
    "    print(ingredientes_carne)\n"
   ]
  }
 ],
 "metadata": {
  "kernelspec": {
   "display_name": "Python 3.9.12 ('base')",
   "language": "python",
   "name": "python3"
  },
  "language_info": {
   "codemirror_mode": {
    "name": "ipython",
    "version": 3
   },
   "file_extension": ".py",
   "mimetype": "text/x-python",
   "name": "python",
   "nbconvert_exporter": "python",
   "pygments_lexer": "ipython3",
   "version": "3.9.12"
  },
  "orig_nbformat": 4,
  "vscode": {
   "interpreter": {
    "hash": "9429f26ec4099974d746a4ebde46a1e9e674ac91dbe378d9f92f91a367d774ad"
   }
  }
 },
 "nbformat": 4,
 "nbformat_minor": 2
}
