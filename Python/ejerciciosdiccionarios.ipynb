{
 "cells": [
  {
   "cell_type": "code",
   "execution_count": null,
   "metadata": {},
   "outputs": [],
   "source": [
    "#En el pair programming de hoy trabajaremos con diccionarios. El objetivo es poner en práctica todos los métodos aprendidos hasta el momento. Para ello lo primero que haremos será contruir un diccionario paso a paso. Nuestro diccionario estará compuesto por:\n",
    "#Cuatro keys que serán:\n",
    "#nombres\n",
    "#apellidos\n",
    "#edades\n",
    "#hijos\n",
    "#Cada una de las keys tendrá un value que será una lista que iremos construyendo con inputs. \n",
    "# Para crear los values seguid los pasos que os indicamos a continuación.\n",
    "# Cread un input que pregunte a la usuaria por tres nombres. \n",
    "# Almacenad el resultado en una lista. Esta lista será el value de la key nombres\n",
    "# Cread un input que pregunte a la usuaria por tres apellidos.\n",
    "#  Convertir el resultado en lista y este será el value de la key apellidos.\n",
    "# Cread un input que pregunte a la usuaria por tres edades. \n",
    "# Almancenad los resultados en una lista. Esta lista será el value de la key edades.\n",
    "# Cread un input que pregunte a la usuaria por el número de hijos. \n",
    "# Almacenad este resultado en una lista. Esta lista será el value de la key hijos.\n",
    "\n"
   ]
  },
  {
   "cell_type": "code",
   "execution_count": 3,
   "metadata": {},
   "outputs": [],
   "source": [
    "ejercicio = {\"nombres\" : (input(),input(), input()), \"apellidos\" : (input(), input(), input()), \n",
    "\"edades\" : (input(), input(), input()), \"hijos\" : (input(),input(),input())}"
   ]
  },
  {
   "cell_type": "code",
   "execution_count": 4,
   "metadata": {},
   "outputs": [
    {
     "name": "stdout",
     "output_type": "stream",
     "text": [
      "{'nombres': ('María', 'Elba', 'Sara'), 'apellidos': ('Rodríguez', 'Fernández', 'Powers'), 'edades': ('25', '24', '23'), 'hijos': ('1', '2', '3')}\n"
     ]
    }
   ],
   "source": [
    "print(ejercicio)"
   ]
  },
  {
   "cell_type": "code",
   "execution_count": 23,
   "metadata": {},
   "outputs": [
    {
     "name": "stdout",
     "output_type": "stream",
     "text": [
      "{'nombres': ['María', 'Elba', 'Sara'], 'apellidos': ['Rodríguez', 'Fernández', 'Powers'], 'edades': [25, 24, 23], 'hijos': [1, 2, 3]}\n"
     ]
    }
   ],
   "source": [
    "ejercicio1 = {\"nombres\": [\"María\", \"Elba\", \"Sara\"], \"apellidos\": [\"Rodríguez\", \"Fernández\", \"Powers\"], \n",
    "\"edades\": [25, 24, 23], \"hijos\": [1,2,3] }\n",
    "print(ejercicio1)"
   ]
  },
  {
   "cell_type": "code",
   "execution_count": null,
   "metadata": {},
   "outputs": [],
   "source": [
    "#Cread un diccionario con los resultados del input. Al final de todos estos pasos deberíamos tener un diccionario similar a este:\n",
    "# {'nombres': ['Lara', ' Alejandro', ' Ana'], 'apellidos': ['Lopez', ' Martin', ' Solo'], 'edades': [34, 20, 28], 'hijos': [2, 0, 1]}"
   ]
  },
  {
   "cell_type": "code",
   "execution_count": 24,
   "metadata": {},
   "outputs": [
    {
     "name": "stdout",
     "output_type": "stream",
     "text": [
      "{'nombres': ['María', 'Elba', 'Sara'], 'apellidos': ['Rodríguez', 'Fernández', 'Powers'], 'edades': [25, 24, 23], 'hijos': [1, 2, 3], 'número de hermanos': [3, 4, 1]}\n"
     ]
    }
   ],
   "source": [
    "# Una vez tengáis creado el diccionario, añadid una nueva key donde tengamos la información sobre el número de hermanos.\n",
    "#diccionario3.update( { 'jueves': [4, \"chorizo\"] } )\n",
    "ejercicio1.update({\"número de hermanos\": [3,4,1]})\n",
    "print(ejercicio1)"
   ]
  },
  {
   "cell_type": "code",
   "execution_count": 25,
   "metadata": {},
   "outputs": [
    {
     "data": {
      "text/plain": [
       "dict_keys(['nombres', 'apellidos', 'edades', 'hijos', 'número de hermanos'])"
      ]
     },
     "execution_count": 25,
     "metadata": {},
     "output_type": "execute_result"
    }
   ],
   "source": [
    "#¿Cúales son las keys de nuestro diccionario? ¿Y los values?\n",
    "ejercicio1.keys()"
   ]
  },
  {
   "cell_type": "code",
   "execution_count": 26,
   "metadata": {},
   "outputs": [
    {
     "data": {
      "text/plain": [
       "dict_values([['María', 'Elba', 'Sara'], ['Rodríguez', 'Fernández', 'Powers'], [25, 24, 23], [1, 2, 3], [3, 4, 1]])"
      ]
     },
     "execution_count": 26,
     "metadata": {},
     "output_type": "execute_result"
    }
   ],
   "source": [
    "ejercicio1.values()"
   ]
  },
  {
   "cell_type": "code",
   "execution_count": 8,
   "metadata": {},
   "outputs": [],
   "source": [
    "#Para extraer los values de una key podemos hacerlo de varias formas.\n",
    "# Extraed los valores de la key nombres. Utilizad dos métodos diferentes."
   ]
  },
  {
   "cell_type": "code",
   "execution_count": 27,
   "metadata": {},
   "outputs": [
    {
     "data": {
      "text/plain": [
       "['María', 'Elba', 'Sara']"
      ]
     },
     "execution_count": 27,
     "metadata": {},
     "output_type": "execute_result"
    }
   ],
   "source": [
    "#Método 1\n",
    "ejercicio1['nombres']"
   ]
  },
  {
   "cell_type": "code",
   "execution_count": 28,
   "metadata": {},
   "outputs": [
    {
     "data": {
      "text/plain": [
       "['María', 'Elba', 'Sara']"
      ]
     },
     "execution_count": 28,
     "metadata": {},
     "output_type": "execute_result"
    }
   ],
   "source": [
    "ejercicio1.get(\"nombres\")"
   ]
  },
  {
   "cell_type": "code",
   "execution_count": 29,
   "metadata": {},
   "outputs": [
    {
     "ename": "NameError",
     "evalue": "name 'ejercicio' is not defined",
     "output_type": "error",
     "traceback": [
      "\u001b[0;31m---------------------------------------------------------------------------\u001b[0m",
      "\u001b[0;31mNameError\u001b[0m                                 Traceback (most recent call last)",
      "\u001b[1;32m/mnt/c/Users/irene/Documents/Adalab/Módulo_1/clasespython/pairprogramming/DA-promoc-modulo1-sprint1-marinairene/Python/ejerciciosdiccionarios.ipynb Celda 12\u001b[0m in \u001b[0;36m<cell line: 2>\u001b[0;34m()\u001b[0m\n\u001b[1;32m      <a href='vscode-notebook-cell://wsl%2Bubuntu-20.04/mnt/c/Users/irene/Documents/Adalab/M%C3%B3dulo_1/clasespython/pairprogramming/DA-promoc-modulo1-sprint1-marinairene/Python/ejerciciosdiccionarios.ipynb#X14sdnNjb2RlLXJlbW90ZQ%3D%3D?line=0'>1</a>\u001b[0m \u001b[39m#Extraed los valores de la key nacionalidad. En caso de que no exista, cread esa key con el value \"desconocida\".\u001b[39;00m\n\u001b[0;32m----> <a href='vscode-notebook-cell://wsl%2Bubuntu-20.04/mnt/c/Users/irene/Documents/Adalab/M%C3%B3dulo_1/clasespython/pairprogramming/DA-promoc-modulo1-sprint1-marinairene/Python/ejerciciosdiccionarios.ipynb#X14sdnNjb2RlLXJlbW90ZQ%3D%3D?line=1'>2</a>\u001b[0m ejercicio[\u001b[39m\"\u001b[39m\u001b[39mnacionalidad\u001b[39m\u001b[39m\"\u001b[39m]\n",
      "\u001b[0;31mNameError\u001b[0m: name 'ejercicio' is not defined"
     ]
    }
   ],
   "source": [
    "#Extraed los valores de la key nacionalidad. En caso de que no exista, cread esa key con el value \"desconocida\".\n",
    "ejercicio[\"nacionalidad\"]"
   ]
  },
  {
   "cell_type": "code",
   "execution_count": 30,
   "metadata": {},
   "outputs": [
    {
     "data": {
      "text/plain": [
       "'desconocida'"
      ]
     },
     "execution_count": 30,
     "metadata": {},
     "output_type": "execute_result"
    }
   ],
   "source": [
    "ejercicio1.setdefault(\"nacionalidad\",\"desconocida\")"
   ]
  },
  {
   "cell_type": "code",
   "execution_count": 31,
   "metadata": {},
   "outputs": [
    {
     "name": "stdout",
     "output_type": "stream",
     "text": [
      "{'nombres': ['María', 'Elba', 'Sara'], 'apellidos': ['Rodríguez', 'Fernández', 'Powers'], 'edades': [25, 24, 23], 'hijos': [1, 2, 3], 'número de hermanos': [3, 4, 1], 'nacionalidad': 'desconocida'}\n"
     ]
    }
   ],
   "source": [
    "print(ejercicio1)"
   ]
  },
  {
   "cell_type": "code",
   "execution_count": 32,
   "metadata": {},
   "outputs": [
    {
     "name": "stdout",
     "output_type": "stream",
     "text": [
      "[('apellidos', ['Rodríguez', 'Fernández', 'Powers']), ('edades', [25, 24, 23]), ('hijos', [1, 2, 3]), ('nacionalidad', 'desconocida'), ('nombres', ['María', 'Elba', 'Sara']), ('número de hermanos', [3, 4, 1])]\n"
     ]
    }
   ],
   "source": [
    "#Ordena los elementos del diccionario basandonos en las keys y los values. Esto nos devuelve una lista de tuplas\n",
    "#(todavía no hemos visto este tipo de datos, pero lo veremos en la lección de mañana).\n",
    "#Convertid esta lista de tuplas en diccionario.\n",
    "\n",
    "ejercicio1_ordenado = sorted(ejercicio1.items())\n",
    "print(ejercicio1_ordenado)\n"
   ]
  },
  {
   "cell_type": "code",
   "execution_count": 33,
   "metadata": {},
   "outputs": [
    {
     "data": {
      "text/plain": [
       "{'apellidos': ['Rodríguez', 'Fernández', 'Powers'],\n",
       " 'edades': [25, 24, 23],\n",
       " 'hijos': [1, 2, 3],\n",
       " 'nacionalidad': 'desconocida',\n",
       " 'nombres': ['María', 'Elba', 'Sara'],\n",
       " 'número de hermanos': [3, 4, 1]}"
      ]
     },
     "execution_count": 33,
     "metadata": {},
     "output_type": "execute_result"
    }
   ],
   "source": [
    "dict(ejercicio1_ordenado)"
   ]
  },
  {
   "cell_type": "code",
   "execution_count": 34,
   "metadata": {},
   "outputs": [
    {
     "data": {
      "text/plain": [
       "'desconocida'"
      ]
     },
     "execution_count": 34,
     "metadata": {},
     "output_type": "execute_result"
    }
   ],
   "source": [
    "#Eliminad la key de \"nacionalidad\"\n",
    "\n",
    "ejercicio1.pop(\"nacionalidad\")"
   ]
  },
  {
   "cell_type": "code",
   "execution_count": 46,
   "metadata": {},
   "outputs": [
    {
     "name": "stdout",
     "output_type": "stream",
     "text": [
      "[1, 2, 3]\n",
      "2\n"
     ]
    }
   ],
   "source": [
    "#Utilizando métodos de Python. ¿Qué persona tiene mayor numúmero de hijos? ¿Y quién es la más joven?\n",
    "#habría que converitr de integer a \n",
    "#sacamos la lista hijos\n",
    "#vemos cul es el max y en que posicion está\n",
    "#sacamos la lista de nombres\n",
    "#y vemos que nombre está en la posición del numero max en hijos\n",
    "hijos = ejercicio1[\"hijos\"]\n",
    "print(hijos)\n",
    "mas_hijos = hijos.index(max(hijos))\n",
    "print(mas_hijos)\n",
    "\n"
   ]
  },
  {
   "cell_type": "code",
   "execution_count": 48,
   "metadata": {},
   "outputs": [
    {
     "name": "stdout",
     "output_type": "stream",
     "text": [
      "['María', 'Elba', 'Sara']\n"
     ]
    }
   ],
   "source": [
    "nombres = ejercicio1[\"nombres\"]\n",
    "print(nombres)"
   ]
  },
  {
   "cell_type": "code",
   "execution_count": 50,
   "metadata": {},
   "outputs": [
    {
     "data": {
      "text/plain": [
       "'Sara'"
      ]
     },
     "execution_count": 50,
     "metadata": {},
     "output_type": "execute_result"
    }
   ],
   "source": [
    "nombres[2]"
   ]
  }
 ],
 "metadata": {
  "kernelspec": {
   "display_name": "Python 3.9.12 ('base')",
   "language": "python",
   "name": "python3"
  },
  "language_info": {
   "codemirror_mode": {
    "name": "ipython",
    "version": 3
   },
   "file_extension": ".py",
   "mimetype": "text/x-python",
   "name": "python",
   "nbconvert_exporter": "python",
   "pygments_lexer": "ipython3",
   "version": "3.9.12"
  },
  "orig_nbformat": 4,
  "vscode": {
   "interpreter": {
    "hash": "9429f26ec4099974d746a4ebde46a1e9e674ac91dbe378d9f92f91a367d774ad"
   }
  }
 },
 "nbformat": 4,
 "nbformat_minor": 2
}
