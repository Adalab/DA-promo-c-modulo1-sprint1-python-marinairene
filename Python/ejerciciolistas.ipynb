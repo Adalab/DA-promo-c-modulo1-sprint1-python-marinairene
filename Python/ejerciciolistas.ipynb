{
 "cells": [
  {
   "cell_type": "code",
   "execution_count": 13,
   "metadata": {},
   "outputs": [],
   "source": [
    "#Ejercicios Listas Pair Programming\n",
    "#Usando la función input, cread un programa que pregunte al usuario por el nombre de tres amig@s.\n"
   ]
  },
  {
   "cell_type": "code",
   "execution_count": 17,
   "metadata": {},
   "outputs": [
    {
     "name": "stdout",
     "output_type": "stream",
     "text": [
      "Dime el nombre de tres amigos: Sara , Elba , María\n"
     ]
    }
   ],
   "source": [
    "print(\"Dime el nombre de tres amigos:\",input(),\",\",input(),\",\", input())"
   ]
  },
  {
   "cell_type": "code",
   "execution_count": 25,
   "metadata": {},
   "outputs": [
    {
     "name": "stdout",
     "output_type": "stream",
     "text": [
      "('Dime el nombre de tres amigos:', 'Sara ', ',', 'Elba', ',', 'María')\n"
     ]
    }
   ],
   "source": [
    "#Almacenad los resultados del paso anterior en una lista.\n",
    "pregunta = (\"Dime el nombre de tres amigos:\",input(),\",\",input(),\",\", input())\n",
    "print(pregunta)"
   ]
  },
  {
   "cell_type": "code",
   "execution_count": 6,
   "metadata": {},
   "outputs": [
    {
     "name": "stdout",
     "output_type": "stream",
     "text": [
      "['Sara', 'Elba', 'María']\n"
     ]
    }
   ],
   "source": [
    "nombres = [\"Sara\", \"Elba\", \"María\"]\n",
    "print(nombres)"
   ]
  },
  {
   "cell_type": "code",
   "execution_count": 33,
   "metadata": {},
   "outputs": [
    {
     "name": "stdout",
     "output_type": "stream",
     "text": [
      "Dime la altura de tres amigos: 1.50 , 1.60 , 1.70\n"
     ]
    }
   ],
   "source": [
    "#Usando la función input, cread un programa que ahora le pregunte al usuario por las alturas de sus amig@s.\n",
    "\n",
    "print(\"Dime la altura de tres amigos:\",input(),\",\",input(),\",\", input())"
   ]
  },
  {
   "cell_type": "code",
   "execution_count": 2,
   "metadata": {},
   "outputs": [
    {
     "name": "stdout",
     "output_type": "stream",
     "text": [
      "[1.5, 1.6, 1.7]\n"
     ]
    }
   ],
   "source": [
    "#Y almacenar los resultados en una lista.\n",
    "lista_alturas = [1.50 , 1.60, 1.70]\n",
    "print(lista_alturas)"
   ]
  },
  {
   "cell_type": "code",
   "execution_count": 3,
   "metadata": {},
   "outputs": [],
   "source": [
    "lista_alturas = [float(i) for i in lista_alturas]\n"
   ]
  },
  {
   "cell_type": "code",
   "execution_count": 7,
   "metadata": {},
   "outputs": [
    {
     "name": "stdout",
     "output_type": "stream",
     "text": [
      "[1.7, 1.6, 1.5]\n",
      "['Sara', 'María', 'Elba']\n"
     ]
    }
   ],
   "source": [
    "#Ordenad las dos listas de mayor a menor. ¿Lo podréis hacer para la lista de nombres?\n",
    "lista_alturas.sort(reverse=True)\n",
    "print(lista_alturas)\n",
    "nombres.sort(reverse=True)\n",
    "print(nombres)"
   ]
  },
  {
   "cell_type": "code",
   "execution_count": 5,
   "metadata": {},
   "outputs": [
    {
     "name": "stdout",
     "output_type": "stream",
     "text": [
      "1.5\n",
      "1.7\n"
     ]
    }
   ],
   "source": [
    "#¿Cuál es la altura máxima de todos nuestros amig@os?\n",
    "#¿Y la mínima?\n",
    "minima = min(lista_alturas)\n",
    "maxima = max(lista_alturas)\n",
    "print(minima)\n",
    "print(maxima)"
   ]
  },
  {
   "cell_type": "code",
   "execution_count": 10,
   "metadata": {},
   "outputs": [
    {
     "name": "stdout",
     "output_type": "stream",
     "text": [
      "[[44, 55, 67, 44, 98, 29], [34, 56, 56, 78, 67, 56]]\n"
     ]
    }
   ],
   "source": [
    "#Dadas las siguientes listas\n",
    "lista1 = [44, 55, 67, 44, 98, 29]\n",
    "lista2 = [34, 56, 56, 78, 67, 56]\n",
    "#Unid las dos listas de forma que consigamos el siguiente output. Almacenad los resultados en una nueva variable y llamadla lista_lista\n",
    "lista_lista = [lista1,lista2]\n",
    "print(lista_lista)"
   ]
  },
  {
   "cell_type": "code",
   "execution_count": 11,
   "metadata": {},
   "outputs": [
    {
     "name": "stdout",
     "output_type": "stream",
     "text": [
      "[44, 55, 67, 44, 98, 29, 34, 56, 56, 78, 67, 56]\n"
     ]
    }
   ],
   "source": [
    "#Unid las dos listas de forma que consigamos el siguiente output. Almacenad los resultados en una nueva variable y llamadla lista_lista\n",
    "lista_numeros = lista1 + lista2\n",
    "print(lista_numeros)"
   ]
  },
  {
   "cell_type": "code",
   "execution_count": 12,
   "metadata": {},
   "outputs": [
    {
     "name": "stdout",
     "output_type": "stream",
     "text": [
      "0\n"
     ]
    }
   ],
   "source": [
    "#De la lista lista_lista, ¿cuántas veces aparece el número 67? ¿y en la lista lista_numeros.\n",
    "print(lista_lista.count(67))"
   ]
  },
  {
   "cell_type": "code",
   "execution_count": 13,
   "metadata": {},
   "outputs": [
    {
     "name": "stdout",
     "output_type": "stream",
     "text": [
      "2\n"
     ]
    }
   ],
   "source": [
    "print(lista_numeros.count(67))"
   ]
  },
  {
   "cell_type": "code",
   "execution_count": null,
   "metadata": {},
   "outputs": [],
   "source": [
    "#Justificad por qué salen números diferentes\n",
    "#Porque en lista_lista en sí no hay un 67, hay un 67 en una de las listas que la compone. "
   ]
  }
 ],
 "metadata": {
  "kernelspec": {
   "display_name": "Python 3.9.12 ('base')",
   "language": "python",
   "name": "python3"
  },
  "language_info": {
   "codemirror_mode": {
    "name": "ipython",
    "version": 3
   },
   "file_extension": ".py",
   "mimetype": "text/x-python",
   "name": "python",
   "nbconvert_exporter": "python",
   "pygments_lexer": "ipython3",
   "version": "3.9.12"
  },
  "orig_nbformat": 4,
  "vscode": {
   "interpreter": {
    "hash": "9429f26ec4099974d746a4ebde46a1e9e674ac91dbe378d9f92f91a367d774ad"
   }
  }
 },
 "nbformat": 4,
 "nbformat_minor": 2
}
