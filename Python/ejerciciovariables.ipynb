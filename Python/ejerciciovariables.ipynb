{
 "cells": [
  {
   "cell_type": "code",
   "execution_count": 1,
   "metadata": {},
   "outputs": [],
   "source": [
    "# Pair programming variables\n",
    "# Cread tres variables numéricas de tipo integer (entero), llamadas de la siguiente forma:\n",
    "#numero1\n",
    "#numero2\n",
    "#numero3\n",
    "\n",
    "#utilizando los operadores lógicos\n",
    "\n",
    "#En vuestro caso, es el numero1 mayor que el numero2\n",
    "#Es el numero1 menor que el numero2 pero mayor que el numero3\n",
    "#Es el numero3 igual que el numero2\n",
    "#Es el numero2 distinto que el numero1"
   ]
  },
  {
   "cell_type": "code",
   "execution_count": 2,
   "metadata": {},
   "outputs": [],
   "source": [
    "numero1 = 1\n",
    "numero2 = 2\n",
    "numero3 = 3"
   ]
  },
  {
   "cell_type": "code",
   "execution_count": 4,
   "metadata": {},
   "outputs": [
    {
     "name": "stdout",
     "output_type": "stream",
     "text": [
      "False\n"
     ]
    }
   ],
   "source": [
    "#Es el numero1 menor que el numero2 pero mayor que el numero3\n",
    "print(numero1<numero2 and(numero2>numero3))"
   ]
  },
  {
   "cell_type": "code",
   "execution_count": 5,
   "metadata": {},
   "outputs": [
    {
     "name": "stdout",
     "output_type": "stream",
     "text": [
      "False\n"
     ]
    }
   ],
   "source": [
    "#Es el numero3 igual que el numero2\n",
    "print(numero3==numero2)"
   ]
  },
  {
   "cell_type": "code",
   "execution_count": 6,
   "metadata": {},
   "outputs": [
    {
     "name": "stdout",
     "output_type": "stream",
     "text": [
      "True\n"
     ]
    }
   ],
   "source": [
    "#Es el numero2 distinto que el numero1\n",
    "print(numero2!=numero1)"
   ]
  },
  {
   "cell_type": "code",
   "execution_count": 1,
   "metadata": {},
   "outputs": [],
   "source": [
    "#Cread dos variables numéricas de tipo float (decimal) con dos decimales, llamdas de la siguiente forma:\n",
    "altura1 = 1.75\n",
    "altura2 = 1.80"
   ]
  },
  {
   "cell_type": "code",
   "execution_count": 8,
   "metadata": {},
   "outputs": [
    {
     "name": "stdout",
     "output_type": "stream",
     "text": [
      "3.55\n",
      "-0.05\n",
      "1.75\n",
      "0.97\n"
     ]
    }
   ],
   "source": [
    "#Utilizando los operadores matemáticos aprendidos en la lección:\n",
    "#Cuál es la suma de las dos alturas\n",
    "#Cuál es la diferencia entre las alturas\n",
    "#Cuál es el resto de la división de las dos alturas\n",
    "#Cuál es resultado de la división de las dos alturas, redondead el resultado a un decimal\n",
    "\n",
    "print(altura1+altura2)\n",
    "print(round(altura1-altura2,2))\n",
    "print(altura1%altura2)\n",
    "print(round(altura1/altura2,2))\n"
   ]
  },
  {
   "cell_type": "code",
   "execution_count": 9,
   "metadata": {},
   "outputs": [
    {
     "name": "stdout",
     "output_type": "stream",
     "text": [
      "¿Cuál es tu nombre y tus apellidos? María González\n"
     ]
    }
   ],
   "source": [
    "#Escribid un programa usando la función input() que le pregunte al usuario su nombre y apellidos. \n",
    "\n",
    "print(\"¿Cuál es tu nombre y tus apellidos?\", input())"
   ]
  },
  {
   "cell_type": "code",
   "execution_count": 12,
   "metadata": {},
   "outputs": [
    {
     "name": "stdout",
     "output_type": "stream",
     "text": [
      "MARÍA GONZÁLEZ\n"
     ]
    }
   ],
   "source": [
    "# Una vez que tengamos el nombre del usuario:\n",
    "# Printead su nombre y apellidos todo en mayúsculas\n",
    "nombre_apellidos = \"María González\"\n",
    "print(nombre_apellidos.upper())"
   ]
  },
  {
   "cell_type": "code",
   "execution_count": 13,
   "metadata": {},
   "outputs": [
    {
     "name": "stdout",
     "output_type": "stream",
     "text": [
      "maría gonzález\n"
     ]
    }
   ],
   "source": [
    "# Printead su nombre y apellidos todo en minúsculas\n",
    "print(nombre_apellidos.lower())"
   ]
  },
  {
   "cell_type": "code",
   "execution_count": 14,
   "metadata": {},
   "outputs": [
    {
     "name": "stdout",
     "output_type": "stream",
     "text": [
      "María González\n"
     ]
    }
   ],
   "source": [
    "#Printead su nombre y apellidos con la primera letra del nombre y los apellidos en mayúscula y el resto en minúscula.\n",
    "print(nombre_apellidos.title())"
   ]
  },
  {
   "cell_type": "code",
   "execution_count": 15,
   "metadata": {},
   "outputs": [
    {
     "name": "stdout",
     "output_type": "stream",
     "text": [
      "María gonzález\n"
     ]
    }
   ],
   "source": [
    "#Printeas solo la primera letra del nombre en mayúscula.\n",
    "print(nombre_apellidos.capitalize())"
   ]
  },
  {
   "cell_type": "code",
   "execution_count": 30,
   "metadata": {},
   "outputs": [
    {
     "name": "stdout",
     "output_type": "stream",
     "text": [
      "Dime una frase\n",
      "hace calor\n"
     ]
    }
   ],
   "source": [
    "#Escribid un programa usando la función input() que:\n",
    "#Le pregunte al usuario por una frase, almacenad este resultado en una variable.\n",
    "\n",
    "print(\"Dime una frase\")\n",
    "respuesta = input()\n",
    "print(respuesta)\n",
    "\n"
   ]
  },
  {
   "cell_type": "code",
   "execution_count": 31,
   "metadata": {},
   "outputs": [
    {
     "name": "stdout",
     "output_type": "stream",
     "text": [
      "Dime una vocal\n",
      "a\n"
     ]
    }
   ],
   "source": [
    "#Le pregunte al usuario por una vocal, almacenad este resultado en una variable.\n",
    "print(\"Dime una vocal\")\n",
    "respuesta_vocal = input()\n",
    "print(respuesta_vocal)\n"
   ]
  },
  {
   "cell_type": "code",
   "execution_count": 38,
   "metadata": {},
   "outputs": [
    {
     "name": "stdout",
     "output_type": "stream",
     "text": [
      "hAce cAlor\n"
     ]
    }
   ],
   "source": [
    "#Printead la misma frase pero con la vocal introducida en mayúsulas.\n",
    "print(respuesta.replace(\"hace calor\", \"hAce cAlor\"))"
   ]
  },
  {
   "cell_type": "code",
   "execution_count": 10,
   "metadata": {},
   "outputs": [
    {
     "name": "stdout",
     "output_type": "stream",
     "text": [
      "Dime tu lista de compra\n"
     ]
    }
   ],
   "source": [
    "#Escribid un programa usando la función input() que:\n",
    "#Le pregunte al usuario por la lista de la compra, separando cada elemento por comas.\n",
    "#Devolved la lista de compra donde veamos cada elemento en una línea.\n",
    "#💡Pista\n",
    "#Para indicar salto de línea usaremos \"\\n\".\n",
    "#Deberéis usar el método join de los strings\n",
    "\n",
    "print(\"Dime tu lista de compra\")\n",
    "compra = input(\"dime tu lista de la compra\")\n"
   ]
  },
  {
   "cell_type": "code",
   "execution_count": 11,
   "metadata": {},
   "outputs": [
    {
     "name": "stdout",
     "output_type": "stream",
     "text": [
      "peras, manzanas, uvas\n"
     ]
    }
   ],
   "source": [
    "print(compra)"
   ]
  },
  {
   "cell_type": "code",
   "execution_count": 13,
   "metadata": {},
   "outputs": [
    {
     "data": {
      "text/plain": [
       "['peras', ' manzanas', ' uvas']"
      ]
     },
     "execution_count": 13,
     "metadata": {},
     "output_type": "execute_result"
    }
   ],
   "source": [
    "lista_compra = compra.split(\",\")\n",
    "lista_compra"
   ]
  },
  {
   "cell_type": "code",
   "execution_count": 14,
   "metadata": {},
   "outputs": [
    {
     "name": "stdout",
     "output_type": "stream",
     "text": [
      "peras\n",
      " manzanas\n",
      " uvas\n"
     ]
    }
   ],
   "source": [
    "lista_compra_1 = \"\\n\".join(lista_compra)\n",
    "print(lista_compra_1)"
   ]
  },
  {
   "cell_type": "code",
   "execution_count": null,
   "metadata": {},
   "outputs": [],
   "source": []
  },
  {
   "cell_type": "code",
   "execution_count": null,
   "metadata": {},
   "outputs": [],
   "source": []
  },
  {
   "cell_type": "code",
   "execution_count": 84,
   "metadata": {},
   "outputs": [
    {
     "ename": "AttributeError",
     "evalue": "'tuple' object has no attribute 'split'",
     "output_type": "error",
     "traceback": [
      "\u001b[0;31m---------------------------------------------------------------------------\u001b[0m",
      "\u001b[0;31mAttributeError\u001b[0m                            Traceback (most recent call last)",
      "\u001b[1;32m/mnt/c/Users/irene/Documents/Adalab/Módulo_1/clasespython/pairprogramming/DA-promoc-modulo1-sprint1-marinairene/Python/ejerciciopairprogramming.ipynb Celda 19\u001b[0m in \u001b[0;36m<cell line: 2>\u001b[0;34m()\u001b[0m\n\u001b[1;32m      <a href='vscode-notebook-cell://wsl%2Bubuntu-20.04/mnt/c/Users/irene/Documents/Adalab/M%C3%B3dulo_1/clasespython/pairprogramming/DA-promoc-modulo1-sprint1-marinairene/Python/ejerciciopairprogramming.ipynb#X24sdnNjb2RlLXJlbW90ZQ%3D%3D?line=0'>1</a>\u001b[0m \u001b[39m#Para indicar salto de línea usaremos \"\\n\".\u001b[39;00m\n\u001b[0;32m----> <a href='vscode-notebook-cell://wsl%2Bubuntu-20.04/mnt/c/Users/irene/Documents/Adalab/M%C3%B3dulo_1/clasespython/pairprogramming/DA-promoc-modulo1-sprint1-marinairene/Python/ejerciciopairprogramming.ipynb#X24sdnNjb2RlLXJlbW90ZQ%3D%3D?line=1'>2</a>\u001b[0m compra_lista \u001b[39m=\u001b[39m compra\u001b[39m.\u001b[39;49msplit(\u001b[39m\"\u001b[39m\u001b[39m\\n\u001b[39;00m\u001b[39m\"\u001b[39m)\n\u001b[1;32m      <a href='vscode-notebook-cell://wsl%2Bubuntu-20.04/mnt/c/Users/irene/Documents/Adalab/M%C3%B3dulo_1/clasespython/pairprogramming/DA-promoc-modulo1-sprint1-marinairene/Python/ejerciciopairprogramming.ipynb#X24sdnNjb2RlLXJlbW90ZQ%3D%3D?line=2'>3</a>\u001b[0m \u001b[39mprint\u001b[39m(compra)\n",
      "\u001b[0;31mAttributeError\u001b[0m: 'tuple' object has no attribute 'split'"
     ]
    }
   ],
   "source": [
    "\n",
    "\n"
   ]
  }
 ],
 "metadata": {
  "kernelspec": {
   "display_name": "Python 3.9.12 ('base')",
   "language": "python",
   "name": "python3"
  },
  "language_info": {
   "codemirror_mode": {
    "name": "ipython",
    "version": 3
   },
   "file_extension": ".py",
   "mimetype": "text/x-python",
   "name": "python",
   "nbconvert_exporter": "python",
   "pygments_lexer": "ipython3",
   "version": "3.9.12"
  },
  "orig_nbformat": 4,
  "vscode": {
   "interpreter": {
    "hash": "9429f26ec4099974d746a4ebde46a1e9e674ac91dbe378d9f92f91a367d774ad"
   }
  }
 },
 "nbformat": 4,
 "nbformat_minor": 2
}
