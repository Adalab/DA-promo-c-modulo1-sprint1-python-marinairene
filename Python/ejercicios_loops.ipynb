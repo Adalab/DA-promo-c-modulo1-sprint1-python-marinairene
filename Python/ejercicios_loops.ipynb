{
 "cells": [
  {
   "cell_type": "code",
   "execution_count": 2,
   "metadata": {},
   "outputs": [],
   "source": [
    "#Escribid un programa que pregunte al usuario una cantidad a invertir, el interés anual y el número de años, \n",
    "# y muestre por pantalla el capital obtenido en la inversión cada año que dura la inversión.\n",
    "invertir = int(input(\"¿Cuánto diner quieres invertir?\"))\n",
    "interes_anual = int(input(\"¿Cuál es el interés?\"))\n",
    "numero_años = int(input(\"¿Y el número de años?\"))\n",
    "\n"
   ]
  },
  {
   "cell_type": "code",
   "execution_count": 4,
   "metadata": {},
   "outputs": [
    {
     "name": "stdout",
     "output_type": "stream",
     "text": [
      "1340.1\n",
      "1407.1\n",
      "1477.46\n",
      "1551.33\n",
      "1628.89\n"
     ]
    }
   ],
   "source": [
    "for a in range(numero_años):\n",
    "    ganancias = (invertir*interes_anual)/100\n",
    "    invertir += ganancias \n",
    "    print(round(invertir,2))"
   ]
  },
  {
   "cell_type": "code",
   "execution_count": 4,
   "metadata": {},
   "outputs": [
    {
     "name": "stdout",
     "output_type": "stream",
     "text": [
      "dime una frase\n"
     ]
    }
   ],
   "source": [
    "#2 Escribid un programa en el que se pregunte al usuario por una frase y una letra, y muestre \n",
    "# por pantalla el número de veces que aparece la letra en la frase.\n",
    "frase = input(\"dime una frase\") \n",
    "letra = input(\"dime una letra\")\n",
    "print(pregunta)\n",
    "#dime una frase\n",
    "#a\n"
   ]
  },
  {
   "cell_type": "code",
   "execution_count": 17,
   "metadata": {},
   "outputs": [
    {
     "name": "stdout",
     "output_type": "stream",
     "text": [
      "la letra a aparece 2 veces en la frase dime una frase\n"
     ]
    }
   ],
   "source": [
    "#2 \n",
    "contador = 0\n",
    "for letras in frase:\n",
    "    if letras == \"a\": \n",
    "        contador = int(contador) + 1\n",
    "print(f\"la letra {letra} aparece {contador} veces en la frase {frase}\") "
   ]
  },
  {
   "cell_type": "code",
   "execution_count": 19,
   "metadata": {},
   "outputs": [],
   "source": [
    "#Escribid un programa que nos devuelva la tabla de multiplicar de un número especificado en una función input\n",
    "#Dada la siguinte lista de números:"
   ]
  },
  {
   "cell_type": "code",
   "execution_count": 18,
   "metadata": {},
   "outputs": [
    {
     "name": "stdout",
     "output_type": "stream",
     "text": [
      "2\n"
     ]
    }
   ],
   "source": [
    "numero_tabla = int(input(\"elige un número\"))\n",
    "print(numero_tabla)"
   ]
  },
  {
   "cell_type": "code",
   "execution_count": 28,
   "metadata": {},
   "outputs": [
    {
     "name": "stdout",
     "output_type": "stream",
     "text": [
      "2 * 1 = 2\n",
      "2 * 2 = 4\n",
      "2 * 3 = 6\n",
      "2 * 4 = 8\n",
      "2 * 5 = 10\n",
      "2 * 6 = 12\n",
      "2 * 7 = 14\n",
      "2 * 8 = 16\n",
      "2 * 9 = 18\n",
      "2 * 10 = 20\n"
     ]
    }
   ],
   "source": [
    "for f in range(1,11):\n",
    "    multiplicacion = 2*f\n",
    "    print(\"2 *\", f, \"=\", multiplicacion)\n",
    "\n"
   ]
  },
  {
   "cell_type": "code",
   "execution_count": 6,
   "metadata": {},
   "outputs": [],
   "source": [
    "# Dada la siguinte lista de números:\n",
    "numbers = [12, 75, 150, 180, 145, 525, 50]\n",
    "#Escribid un programa que muestre sólo los números de una lista que cumplan las siguientes condiciones\n",
    "# El número debe ser divisible entre cinco \n",
    "# Si el número es mayor que 150, se salta y se pasa al siguiente número\n",
    "# Si el número es mayor que 500, entonces detenga el bucle"
   ]
  },
  {
   "cell_type": "code",
   "execution_count": 8,
   "metadata": {},
   "outputs": [
    {
     "name": "stdout",
     "output_type": "stream",
     "text": [
      "75\n",
      "150\n",
      "145\n",
      "50\n"
     ]
    }
   ],
   "source": [
    "for condiciones in numbers:\n",
    "    if condiciones > 150:\n",
    "        pass\n",
    "    elif condiciones > 500:\n",
    "        break\n",
    "    elif condiciones%5 == 0:\n",
    "        print(condiciones)"
   ]
  },
  {
   "cell_type": "code",
   "execution_count": 9,
   "metadata": {},
   "outputs": [
    {
     "name": "stdout",
     "output_type": "stream",
     "text": [
      "50\n",
      "40\n",
      "30\n",
      "20\n",
      "10\n"
     ]
    }
   ],
   "source": [
    "# Dada la siguiente lista:\n",
    "list1 = [10, 20, 30, 40, 50]\n",
    "# Imprimir la lista en orden inverso\n",
    "for i in reversed(list1):\n",
    "    print(i)\n"
   ]
  },
  {
   "cell_type": "code",
   "execution_count": 17,
   "metadata": {},
   "outputs": [
    {
     "name": "stdout",
     "output_type": "stream",
     "text": [
      "prueba otra vez con ---> for i in ['1','2','3']: resultado = int(i)**2 print(resultado)\n",
      "prueba otra vez con ---> for i in ['1','2','3']: resultado = int(i)**2 print(resultado)\n",
      "prueba otra vez con ---> for i in ['1','2','3']: resultado = int(i)**2 print(resultado)\n"
     ]
    }
   ],
   "source": [
    "# Dado el siguiente código\n",
    "for i in ['1','2','3']:\n",
    "    try:\n",
    "        print (i**2) \n",
    "    except TypeError:\n",
    "        print(\"prueba otra vez con ---> for i in ['1','2','3']: n/ resultado = int(i)**2 n/ print(resultado)\")\n",
    "    \n",
    "\n"
   ]
  },
  {
   "cell_type": "code",
   "execution_count": 16,
   "metadata": {},
   "outputs": [
    {
     "name": "stdout",
     "output_type": "stream",
     "text": [
      "1\n",
      "4\n",
      "9\n"
     ]
    }
   ],
   "source": [
    "for i in ['1','2','3']:\n",
    "    resultado = int(i)**2\n",
    "    print(resultado)"
   ]
  }
 ],
 "metadata": {
  "kernelspec": {
   "display_name": "Python 3.9.12 ('base')",
   "language": "python",
   "name": "python3"
  },
  "language_info": {
   "codemirror_mode": {
    "name": "ipython",
    "version": 3
   },
   "file_extension": ".py",
   "mimetype": "text/x-python",
   "name": "python",
   "nbconvert_exporter": "python",
   "pygments_lexer": "ipython3",
   "version": "3.9.12"
  },
  "orig_nbformat": 4,
  "vscode": {
   "interpreter": {
    "hash": "9429f26ec4099974d746a4ebde46a1e9e674ac91dbe378d9f92f91a367d774ad"
   }
  }
 },
 "nbformat": 4,
 "nbformat_minor": 2
}
